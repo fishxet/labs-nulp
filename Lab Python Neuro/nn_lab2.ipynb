{
 "cells": [
  {
   "cell_type": "code",
   "metadata": {
    "ExecuteTime": {
     "end_time": "2025-04-03T20:38:41.671683Z",
     "start_time": "2025-04-03T20:38:41.001773Z"
    }
   },
   "source": [
    "import numpy as np\n",
    "import matplotlib.pyplot as plt"
   ],
   "outputs": [],
   "execution_count": 1
  },
  {
   "cell_type": "code",
   "metadata": {
    "ExecuteTime": {
     "end_time": "2025-04-03T20:38:41.702079Z",
     "start_time": "2025-04-03T20:38:41.698878Z"
    }
   },
   "source": [
    "def print_pat(patterns):\n",
    "    num_patterns = len(patterns)\n",
    "    for i, pattern in enumerate(patterns):\n",
    "        plt.subplot(1, num_patterns, i + 1)\n",
    "        plt.axis(\"off\")\n",
    "        plt.imshow(np.array(pattern).reshape(4, 4), cmap=\"gray_r\")\n",
    "    plt.show()"
   ],
   "outputs": [],
   "execution_count": 2
  },
  {
   "cell_type": "code",
   "metadata": {
    "ExecuteTime": {
     "end_time": "2025-04-03T20:38:41.781484Z",
     "start_time": "2025-04-03T20:38:41.779063Z"
    }
   },
   "source": [
    "def f(s, T):\n",
    "    return np.clip(s, 0, T)"
   ],
   "outputs": [],
   "execution_count": 3
  },
  {
   "cell_type": "code",
   "metadata": {
    "ExecuteTime": {
     "end_time": "2025-04-03T20:38:41.805774Z",
     "start_time": "2025-04-03T20:38:41.802789Z"
    }
   },
   "source": [
    "def hamming_network(patterns, test_vector, E_max):\n",
    "    N = len(patterns[0])  # розмірність патерна\n",
    "    M = len(patterns)     # кількість патернів\n",
    "    T = 0.5 * N\n",
    "    \n",
    "    W = np.array([0.5 * np.array(p) for p in patterns])\n",
    "    \n",
    "    # Обчислюємо вхід\n",
    "    s = W @ test_vector\n",
    "    print(s)\n",
    "    y = f(s, T)\n",
    "    print(y)\n",
    "    \n",
    "    # задаємо значення синапсисів нейронів другого шару мережі\n",
    "    second_layer = np.ones((M, M)) * (-0.1)\n",
    "    np.fill_diagonal(second_layer, 1)\n",
    "    \n",
    "    y2 = y.copy()\n",
    "    for i in range(100):\n",
    "        y_new = f(y2 - second_layer @ y2, T)\n",
    "        stability = np.linalg.norm(y_new - y2)\n",
    "        print(\"\\nІтерація \", i)\n",
    "        print(\"y_new = \", y_new)\n",
    "        print(\"Умова стабілізації: \", stability)\n",
    "        if stability <= E_max:\n",
    "            break\n",
    "        y2 = y_new\n",
    "    print(\"Стабільна векторна форма: \", y2)\n",
    "    return int(np.argmax(y2))"
   ],
   "outputs": [],
   "execution_count": 4
  },
  {
   "cell_type": "code",
   "metadata": {
    "ExecuteTime": {
     "end_time": "2025-04-03T20:38:41.814401Z",
     "start_time": "2025-04-03T20:38:41.810607Z"
    }
   },
   "source": [
    "exemplars = [\n",
    "    [1, -1, -1,  1,  1, -1, -1,  1,  1, -1, -1,  1, -1,  1,  1, -1],\n",
    "    [1, -1,  1,  1,  1,  1, -1, -1,  1,  1, -1, -1,  1, -1,  1,  1]\n",
    "]\n",
    "t1 = exemplars[0][::-1]\n",
    "t1[0] = 1\n",
    "t1[3] = 1\n",
    "t1[2] = -1\n",
    "\n",
    "test_vectors = [\n",
    "    t1, \n",
    "    exemplars[0][::-1],\n",
    "    exemplars[1][::-1],\n",
    "    [-1,  1,  1, -1, -1,  1,  1, -1,  1,  1,  1,  1, -1,  1,  1, -1],\n",
    "    [ 1, -1,  1,  1, -1,  1,  1, -1, -1,  1,  1, -1, -1, -1, -1,  1],\n",
    "    [ 1,  1,  1,  1, -1, -1, -1,  1, -1,  1, -1, -1,  1,  1,  1,  1],\n",
    "    [-1,  1,  1,  1,  1, -1, -1, -1, -1,  1, -1, -1, -1, -1,  1, -1]\n",
    "]\n",
    "E_max = 1e-3"
   ],
   "outputs": [],
   "execution_count": 5
  },
  {
   "cell_type": "code",
   "metadata": {
    "ExecuteTime": {
     "end_time": "2025-04-03T20:38:42.069396Z",
     "start_time": "2025-04-03T20:38:41.832476Z"
    }
   },
   "source": [
    "for test_vector in test_vectors:\n",
    "    ind = hamming_network(exemplars, test_vector, E_max)\n",
    "    print(f\"Вектор схожий на еталоний вектор під індексом {ind}\")\n",
    "    print_pat([exemplars[ind], test_vector])"
   ],
   "outputs": [
    {
     "name": "stdout",
     "output_type": "stream",
     "text": [
      "[3. 1.]\n",
      "[3. 1.]\n",
      "\n",
      "Ітерація  0\n",
      "y_new =  [0.1 0.3]\n",
      "Умова стабілізації:  2.9832867780352594\n",
      "\n",
      "Ітерація  1\n",
      "y_new =  [0.03 0.01]\n",
      "Умова стабілізації:  0.298328677803526\n",
      "\n",
      "Ітерація  2\n",
      "y_new =  [0.001 0.003]\n",
      "Умова стабілізації:  0.029832867780352594\n",
      "\n",
      "Ітерація  3\n",
      "y_new =  [0.0003 0.0001]\n",
      "Умова стабілізації:  0.0029832867780352594\n",
      "\n",
      "Ітерація  4\n",
      "y_new =  [1.e-05 3.e-05]\n",
      "Умова стабілізації:  0.00029832867780352603\n",
      "Стабільна векторна форма:  [0.0003 0.0001]\n",
      "Вектор схожий на еталоний вектор під індексом 0\n"
     ]
    },
    {
     "data": {
      "text/plain": [
       "<Figure size 640x480 with 2 Axes>"
      ],
      "image/png": "[encoded data removed]"
     },
     "metadata": {},
     "output_type": "display_data"
    },
    {
     "name": "stdout",
     "output_type": "stream",
     "text": [
      "[0. 0.]\n",
      "[0. 0.]\n",
      "\n",
      "Ітерація  0\n",
      "y_new =  [0. 0.]\n",
      "Умова стабілізації:  0.0\n",
      "Стабільна векторна форма:  [0. 0.]\n",
      "Вектор схожий на еталоний вектор під індексом 0\n"
     ]
    },
    {
     "data": {
      "text/plain": [
       "<Figure size 640x480 with 2 Axes>"
      ],
      "image/png": "[encoded data removed]"
     },
     "metadata": {},
     "output_type": "display_data"
    },
    {
     "name": "stdout",
     "output_type": "stream",
     "text": [
      "[ 0. -4.]\n",
      "[0. 0.]\n",
      "\n",
      "Ітерація  0\n",
      "y_new =  [0. 0.]\n",
      "Умова стабілізації:  0.0\n",
      "Стабільна векторна форма:  [0. 0.]\n",
      "Вектор схожий на еталоний вектор під індексом 0\n"
     ]
    },
    {
     "data": {
      "text/plain": [
       "<Figure size 640x480 with 2 Axes>"
      ],
      "image/png": "[encoded data removed]"
     },
     "metadata": {},
     "output_type": "display_data"
    },
    {
     "name": "stdout",
     "output_type": "stream",
     "text": [
      "[-2. -2.]\n",
      "[0. 0.]\n",
      "\n",
      "Ітерація  0\n",
      "y_new =  [0. 0.]\n",
      "Умова стабілізації:  0.0\n",
      "Стабільна векторна форма:  [0. 0.]\n",
      "Вектор схожий на еталоний вектор під індексом 0\n"
     ]
    },
    {
     "data": {
      "text/plain": [
       "<Figure size 640x480 with 2 Axes>"
      ],
      "image/png": "[encoded data removed]"
     },
     "metadata": {},
     "output_type": "display_data"
    },
    {
     "name": "stdout",
     "output_type": "stream",
     "text": [
      "[-4.  2.]\n",
      "[0. 2.]\n",
      "\n",
      "Ітерація  0\n",
      "y_new =  [0.2 0. ]\n",
      "Умова стабілізації:  2.009975124224178\n",
      "\n",
      "Ітерація  1\n",
      "y_new =  [0.   0.02]\n",
      "Умова стабілізації:  0.2009975124224178\n",
      "\n",
      "Ітерація  2\n",
      "y_new =  [0.002 0.   ]\n",
      "Умова стабілізації:  0.020099751242241785\n",
      "\n",
      "Ітерація  3\n",
      "y_new =  [0.     0.0002]\n",
      "Умова стабілізації:  0.0020099751242241785\n",
      "\n",
      "Ітерація  4\n",
      "y_new =  [2.e-05 0.e+00]\n",
      "Умова стабілізації:  0.00020099751242241788\n",
      "Стабільна векторна форма:  [0.     0.0002]\n",
      "Вектор схожий на еталоний вектор під індексом 1\n"
     ]
    },
    {
     "data": {
      "text/plain": [
       "<Figure size 640x480 with 2 Axes>"
      ],
      "image/png": "[encoded data removed]"
     },
     "metadata": {},
     "output_type": "display_data"
    },
    {
     "name": "stdout",
     "output_type": "stream",
     "text": [
      "[0. 2.]\n",
      "[0. 2.]\n",
      "\n",
      "Ітерація  0\n",
      "y_new =  [0.2 0. ]\n",
      "Умова стабілізації:  2.009975124224178\n",
      "\n",
      "Ітерація  1\n",
      "y_new =  [0.   0.02]\n",
      "Умова стабілізації:  0.2009975124224178\n",
      "\n",
      "Ітерація  2\n",
      "y_new =  [0.002 0.   ]\n",
      "Умова стабілізації:  0.020099751242241785\n",
      "\n",
      "Ітерація  3\n",
      "y_new =  [0.     0.0002]\n",
      "Умова стабілізації:  0.0020099751242241785\n",
      "\n",
      "Ітерація  4\n",
      "y_new =  [2.e-05 0.e+00]\n",
      "Умова стабілізації:  0.00020099751242241788\n",
      "Стабільна векторна форма:  [0.     0.0002]\n",
      "Вектор схожий на еталоний вектор під індексом 1\n"
     ]
    },
    {
     "data": {
      "text/plain": [
       "<Figure size 640x480 with 2 Axes>"
      ],
      "image/png": "[encoded data removed]"
     },
     "metadata": {},
     "output_type": "display_data"
    },
    {
     "name": "stdout",
     "output_type": "stream",
     "text": [
      "[0. 2.]\n",
      "[0. 2.]\n",
      "\n",
      "Ітерація  0\n",
      "y_new =  [0.2 0. ]\n",
      "Умова стабілізації:  2.009975124224178\n",
      "\n",
      "Ітерація  1\n",
      "y_new =  [0.   0.02]\n",
      "Умова стабілізації:  0.2009975124224178\n",
      "\n",
      "Ітерація  2\n",
      "y_new =  [0.002 0.   ]\n",
      "Умова стабілізації:  0.020099751242241785\n",
      "\n",
      "Ітерація  3\n",
      "y_new =  [0.     0.0002]\n",
      "Умова стабілізації:  0.0020099751242241785\n",
      "\n",
      "Ітерація  4\n",
      "y_new =  [2.e-05 0.e+00]\n",
      "Умова стабілізації:  0.00020099751242241788\n",
      "Стабільна векторна форма:  [0.     0.0002]\n",
      "Вектор схожий на еталоний вектор під індексом 1\n"
     ]
    },
    {
     "data": {
      "text/plain": [
       "<Figure size 640x480 with 2 Axes>"
      ],
      "image/png": "[encoded data removed]"
     },
     "metadata": {},
     "output_type": "display_data"
    }
   ],
   "execution_count": 6
  }
 ],
 "metadata": {
  "kernelspec": {
   "display_name": "env",
   "language": "python",
   "name": "python3"
  },
  "language_info": {
   "codemirror_mode": {
    "name": "ipython",
    "version": 3
   },
   "file_extension": ".py",
   "mimetype": "text/x-python",
   "name": "python",
   "nbconvert_exporter": "python",
   "pygments_lexer": "ipython3",
   "version": "3.13.0"
  }
 },
 "nbformat": 4,
 "nbformat_minor": 2
}
