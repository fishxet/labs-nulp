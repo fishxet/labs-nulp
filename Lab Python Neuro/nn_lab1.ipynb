{
 "cells": [
  {
   "cell_type": "code",
   "metadata": {
    "ExecuteTime": {
     "end_time": "2025-04-04T09:05:42.213931Z",
     "start_time": "2025-04-04T09:05:42.208867Z"
    }
   },
   "source": [
    "import numpy as np\n",
    "import matplotlib\n",
    "matplotlib.use('TkAgg')\n",
    "\n",
    "import matplotlib.pyplot as plt\n",
    "\n",
    "input_size = 2\n",
    "hidden_neurons = 2"
   ],
   "outputs": [],
   "execution_count": 17
  },
  {
   "cell_type": "code",
   "metadata": {
    "ExecuteTime": {
     "end_time": "2025-04-04T09:05:42.236136Z",
     "start_time": "2025-04-04T09:05:42.228393Z"
    }
   },
   "source": [
    "weights = np.random.uniform(-1, 1, (hidden_neurons, input_size))\n",
    "biases = np.random.uniform(-1, 1, hidden_neurons)\n",
    "\n",
    "\n",
    "def step_function(x):\n",
    "    return np.where(x >= 0, 1, 0)\n",
    "\n",
    "    \n",
    "def forward_pass(inputs):\n",
    "    net_input = np.dot(weights, inputs) + biases\n",
    "    print('Net input:', net_input)\n",
    "    return step_function(net_input)"
   ],
   "outputs": [],
   "execution_count": 18
  },
  {
   "cell_type": "code",
   "metadata": {
    "ExecuteTime": {
     "end_time": "2025-04-04T09:05:42.251505Z",
     "start_time": "2025-04-04T09:05:42.249039Z"
    }
   },
   "source": [
    "test_inputs = np.array([\n",
    "    [-4, -4],\n",
    "    [-3, 2],\n",
    "    [0, 0],\n",
    "    [2, 2],\n",
    "    [-4, +4]\n",
    "])\n",
    "\n",
    "outputs = np.array([forward_pass(x) for x in test_inputs])"
   ],
   "outputs": [
    {
     "name": "stdout",
     "output_type": "stream",
     "text": [
      "Net input: [-3.42750432 -0.23443894]\n",
      "Net input: [-1.74007412  1.94729159]\n",
      "Net input: [-0.55185758  0.47403886]\n",
      "Net input: [0.8859658  0.82827776]\n",
      "Net input: [-1.8778747   2.97293879]\n"
     ]
    }
   ],
   "execution_count": 19
  },
  {
   "cell_type": "code",
   "metadata": {
    "ExecuteTime": {
     "end_time": "2025-04-04T09:05:42.349258Z",
     "start_time": "2025-04-04T09:05:42.346785Z"
    }
   },
   "source": [
    "for i, (inp, out) in enumerate(zip(test_inputs, outputs)):\n",
    "    print(f\"Input {i+1}: {inp}, Output: {out}\")"
   ],
   "outputs": [
    {
     "name": "stdout",
     "output_type": "stream",
     "text": [
      "Input 1: [-4 -4], Output: [0 0]\n",
      "Input 2: [-3  2], Output: [0 1]\n",
      "Input 3: [0 0], Output: [0 1]\n",
      "Input 4: [2 2], Output: [1 1]\n",
      "Input 5: [-4  4], Output: [0 1]\n"
     ]
    }
   ],
   "execution_count": 20
  }
 ],
 "metadata": {
  "kernelspec": {
   "display_name": "env",
   "language": "python",
   "name": "python3"
  },
  "language_info": {
   "codemirror_mode": {
    "name": "ipython",
    "version": 3
   },
   "file_extension": ".py",
   "mimetype": "text/x-python",
   "name": "python",
   "nbconvert_exporter": "python",
   "pygments_lexer": "ipython3",
   "version": "3.13.0"
  }
 },
 "nbformat": 4,
 "nbformat_minor": 2
}
